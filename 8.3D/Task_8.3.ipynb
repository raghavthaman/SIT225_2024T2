import sys  # Allows us to exit the program if an error happens (like webcam not working)
import time  # Lets us track time, sleep for a few seconds, or get current timestamps
import traceback  # Helps print a detailed error message when something crashes
import os  # Used to check if a file exists, and to get file sizes
import csv  # Used to create and write rows into a CSV file
import pandas as pd  # Used for handling data in table format (like Excel)
import plotly.graph_objs as go  # Used to create interactive graphs in Plotly
from dash import Dash, dcc, html  # Imports Dash web components to create a dashboard
from dash.dependencies import Output, Input  # Needed to automatically update our graph
from arduino_iot_cloud import ArduinoCloudClient  # Helps us connect to Arduino IoT Cloud
from threading import Thread  # Lets us run two things at the same time (background thread)
from datetime import datetime  # Used to get the current date and time for filenames
import cv2  # This is OpenCV, used to capture images from the laptop webcam

# ---------------------------------------
# ARDUINO CLOUD CREDENTIALS
# ---------------------------------------

DEVICE_ID = "b4ec8599-6e80-47ba-a359-369e16149ced"  # Unique ID for my Arduino device
SECRET_KEY = "Piai5OXJ6ow1z58jzM8lCunn@"  # Secret key to allow connection to cloud

# ---------------------------------------
# GLOBAL VARIABLES
# ---------------------------------------

cur_data = []  # A list to store the most recent accelerometer data
csv_file = "accelerometer_data.csv"  # File where we’ll save the data

# These will temporarily store the x, y, z values from the phone
x, y, z = 0, 0, 0

SNAPSHOT_INTERVAL = 10  # Time between webcam snapshots (in seconds)
_last_snapshot = time.time()  # Records the last time a snapshot was taken

# Maximum runtime for the program (in seconds)
MAX_RUNTIME = 1800  # 30 minutes

# ---------------------------------------
# SETUP THE LAPTOP WEBCAM (macOS-compatible)
# ---------------------------------------

# Start the webcam (without CAP_DSHOW which is Windows-only)
cap = cv2.VideoCapture(0)

# If the webcam cannot open, print an error and exit the program
if not cap.isOpened():
    print("Error: Could not open webcam. Make sure no other app is using it and check camera permissions in System Settings.")
    sys.exit(1)  # Exits the whole program

# Give the webcam 2 seconds to warm up and adjust focus/lighting
time.sleep(2)

# Capture and throw away 5 frames to stabilize the video feed
for _ in range(5):
    cap.read()

# ---------------------------------------
# CALLBACK FUNCTIONS FOR ACCELEROMETER VALUES
# ---------------------------------------

# These functions are triggered when new data comes from Arduino IoT Cloud

def on_accelerometer_x_changed(client, value):
    global x
    x = value  # Store the new x-axis value

def on_accelerometer_y_changed(client, value):
    global y
    y = value  # Store the new y-axis value

def on_accelerometer_z_changed(client, value):
    global z
    z = value  # Store the new z-axis value

# ---------------------------------------
# BACKGROUND THREAD TO COLLECT DATA
# ---------------------------------------

def start_data_stream():
    global cur_data, x, y, z, _last_snapshot, cap  # Using global variables
    start_time = time.time()  # Record the start time

    try:
        # Step 1: Connect to Arduino Cloud using credentials
        client = ArduinoCloudClient(
            device_id=DEVICE_ID,
            username=DEVICE_ID,  # Same as device ID
            password=SECRET_KEY,
            sync_mode=True  # Keeps everything up to date automatically
        )

        # Step 2: Register variables from the cloud and link them to callback functions
        client.register("py_x", value=None, on_write=on_accelerometer_x_changed)
        client.register("py_y", value=None, on_write=on_accelerometer_y_changed)
        client.register("py_z", value=None, on_write=on_accelerometer_z_changed)

        # Step 3: Start communication with the cloud
        client.start()

        # Step 4: Create CSV file and add a header if the file is new/empty
        with open(csv_file, mode='a', newline='') as file:
            writer = csv.writer(file)
            if os.stat(csv_file).st_size == 0:  # Check if the file is empty
                writer.writerow(['Timestamp', 'X', 'Y', 'Z'])  # Add column names

        # Step 5: Start collecting data continuously
        while True:
            # Check if max runtime has been reached
            if time.time() - start_time > MAX_RUNTIME:
                print("Max runtime reached. Stopping program.")
                break  # Break the loop to stop the program

            # If we have all 3 values (x, y, z), we can store them
            if x is not None and y is not None and z is not None:
                timestamp = datetime.now().strftime('%Y-%m-%d %H:%M:%S.%f')  # Current time
                data_point = [timestamp, x, y, z]  # Combine all values into a list

                cur_data.append(data_point)  # Add to the list used for live graph

                # Keep only the latest 50 values to show on the dashboard (approx. 10 seconds)
                if len(cur_data) > 50:
                    cur_data.pop(0)

                # Save the data into the CSV file
                with open(csv_file, mode='a', newline='') as file:
                    csv.writer(file).writerow(data_point)

                print(data_point)  # Print in terminal (helps for testing)

                # Reset values to None so we know when new data arrives
                x, y, z = None, None, None

            # Check if it's time to take a snapshot from webcam
            now = time.time()
            if now - _last_snapshot >= SNAPSHOT_INTERVAL:
                try:
                    # Try to take a photo
                    time.sleep(0.05)
                    cap.grab()  # Grab the frame
                    ret, frame = cap.retrieve()  # Retrieve the frame

                    # If the frame is empty or failed, retry the webcam
                    if not ret or frame is None or frame.shape[0] == 0:
                        print("Warning: grab() or retrieve() failed — retrying...")
                        cap.release()
                        time.sleep(1)
                        cap = cv2.VideoCapture(0)
                        time.sleep(1)
                        cap.grab()
                        ret, frame = cap.retrieve()

                    # If photo is okay, save it with a timestamped filename
                    if ret and frame is not None and frame.shape[0] > 0:
                        ts = datetime.now().strftime('%Y%m%dT%H%M%S')
                        img_name = f"seq_{ts}.jpg"  # e.g., seq_20250501T153045.jpg
                        cv2.imwrite(img_name, frame)  # Save the photo
                        print(f"Snapshot saved: {img_name}")
                    else:
                        print("Error: frame invalid even after retry.")

                except Exception as e:
                    print(f"Exception during snapshot: {e}")

                _last_snapshot = now  # Update last snapshot time

            client.update()  # Keep connection alive and in sync

    except Exception:
        print("Error in data stream:")
        traceback.print_exc()  # Print full error traceback

# ---------------------------------------
# FUNCTION TO SMOOTH ACCELEROMETER DATA
# ---------------------------------------

# This function reduces random noise by averaging 5 values at a time
def smooth_data(df, window_size=5):
    df_smoothed = df.copy()  # Make a copy of the input data
    for col in ['X', 'Y', 'Z']:
        df_smoothed[col] = df[col].rolling(window=window_size, min_periods=1).mean()
    return df_smoothed

# ---------------------------------------
# DASH WEB DASHBOARD SETUP
# ---------------------------------------

# Create a new Dash web application
app = Dash(__name__)

# Define the layout of the webpage
app.layout = html.Div([
    html.H1("Live Accelerometer Data (Last 10 Seconds)"),  # Title
    dcc.Graph(id='live-graph'),  # Placeholder for the graph
    dcc.Interval(id='interval-component', interval=1000, n_intervals=0)  # Update every second
])

# Define how the graph gets updated every second
@app.callback(
    Output('live-graph', 'figure'),
    [Input('interval-component', 'n_intervals')]
)
def update_graph(n):
    # If no data is available yet, show an empty graph
    if not cur_data:
        return go.Figure()

    # Convert the list of data into a DataFrame (like an Excel table)
    df = pd.DataFrame(cur_data, columns=['Timestamp', 'X', 'Y', 'Z'])

    # Smooth the data to remove noise/spikes
    df = smooth_data(df, window_size=5)

    # Create a graph with x, y, z plotted as separate lines
    fig = go.Figure()
    fig.add_trace(go.Scatter(x=df['Timestamp'], y=df['X'], mode='lines+markers', name='X'))
    fig.add_trace(go.Scatter(x=df['Timestamp'], y=df['Y'], mode='lines+markers', name='Y'))
    fig.add_trace(go.Scatter(x=df['Timestamp'], y=df['Z'], mode='lines+markers', name='Z'))

    # Adjust how the graph looks
    fig.update_layout(
        xaxis_title='Timestamp',
        yaxis_title='Acceleration',
        margin=dict(l=40, r=20, t=40, b=40),
        height=600
    )
    return fig  # Return the final graph

# ---------------------------------------
# MAIN PROGRAM START
# ---------------------------------------

if __name__ == "__main__":
    # Start the data collection function in a background thread
    data_thread = Thread(target=start_data_stream, daemon=True)
    data_thread.start()

    # Start the web dashboard on localhost:8054
    app.run(debug=False, use_reloader=False, port=8054)

    # When the program is done, release the webcam
cap.release()
